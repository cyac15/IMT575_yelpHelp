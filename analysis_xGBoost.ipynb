{
 "cells": [
  {
   "cell_type": "markdown",
   "metadata": {},
   "source": [
    "different models testing"
   ]
  },
  {
   "cell_type": "markdown",
   "metadata": {},
   "source": [
    "## Import Libraries"
   ]
  },
  {
   "cell_type": "code",
   "execution_count": 56,
   "metadata": {},
   "outputs": [],
   "source": [
    "import pandas as pd \n",
    "import numpy as np\n",
    "from nltk.corpus import stopwords\n",
    "from nltk.stem import PorterStemmer\n",
    "\n",
    "from sklearn.feature_extraction.text import CountVectorizer\n",
    "from sklearn.feature_extraction.text import TfidfVectorizer\n",
    "from sklearn.decomposition import LatentDirichletAllocation as LDA\n",
    "\n",
    "import matplotlib.pyplot as plt\n",
    "import seaborn as sns\n",
    "\n",
    "import pickle\n",
    "\n",
    "import glob, os\n",
    "# os.chdir(\"/Users/choyademacbook/Desktop/2020Spring/IMT575/finalProject/\")"
   ]
  },
  {
   "cell_type": "markdown",
   "metadata": {},
   "source": [
    "## Prepare Data\n",
    "- import data"
   ]
  },
  {
   "cell_type": "code",
   "execution_count": 57,
   "metadata": {},
   "outputs": [
    {
     "data": {
      "text/plain": [
       "((428724, 18), (129141, 18), (102135, 18))"
      ]
     },
     "execution_count": 57,
     "metadata": {},
     "output_type": "execute_result"
    }
   ],
   "source": [
    "trainOrigin = pd.read_csv(\"./yelp_feature_train.csv\", encoding='utf-8')\n",
    "testOrigin = pd.read_csv(\"./yelp_feature_test.csv\", encoding='utf-8')\n",
    "valOrigin = pd.read_csv(\"./yelp_feature_val.csv\", encoding='utf-8')\n",
    "trainOrigin.shape, testOrigin.shape, valOrigin.shape"
   ]
  },
  {
   "cell_type": "code",
   "execution_count": 58,
   "metadata": {
    "scrolled": true
   },
   "outputs": [
    {
     "data": {
      "text/plain": [
       "business_id                object \n",
       "user_id                    object \n",
       "review_stars               float64\n",
       "review_like                int64  \n",
       "text                       object \n",
       "text_len                   int64  \n",
       "restaurant_avg_stars       float64\n",
       "restaurant_review_count    int64  \n",
       "city_review_count          float64\n",
       "centrality                 float64\n",
       "user_avg_stars             float64\n",
       "user_review_count          int64  \n",
       "user_fans                  int64  \n",
       "user_period                int64  \n",
       "user_compliments           int64  \n",
       "user_votes                 int64  \n",
       "popularity                 float64\n",
       "pop_label                  float64\n",
       "dtype: object"
      ]
     },
     "execution_count": 58,
     "metadata": {},
     "output_type": "execute_result"
    }
   ],
   "source": [
    "trainOrigin.dtypes"
   ]
  },
  {
   "cell_type": "code",
   "execution_count": 59,
   "metadata": {},
   "outputs": [],
   "source": [
    "#trainOrigin.head(3)"
   ]
  },
  {
   "cell_type": "markdown",
   "metadata": {},
   "source": [
    "<font color=red>- encode labels to one-hot</font>"
   ]
  },
  {
   "cell_type": "code",
   "execution_count": 60,
   "metadata": {},
   "outputs": [
    {
     "data": {
      "text/plain": [
       "\"\\n# encode labels to one-hot\\nvalues_dict = {1:[0,0,0,0],\\n               2:[1,0,0,0],\\n               3:[1,1,0,0],\\n               4:[1,1,1,0],\\n               5:[1,1,1,1]}\\n\\nresultDF['temp'] = resultDF['real_label'].map(values_dict)\\nresultDF[['encode_1','encode_2','encode_3','encode_4']] = resultDF['pop_label'].apply(pd.Series)\\n\""
      ]
     },
     "execution_count": 60,
     "metadata": {},
     "output_type": "execute_result"
    }
   ],
   "source": [
    "'''\n",
    "# encode labels to one-hot\n",
    "values_dict = {1:[0,0,0,0],\n",
    "               2:[1,0,0,0],\n",
    "               3:[1,1,0,0],\n",
    "               4:[1,1,1,0],\n",
    "               5:[1,1,1,1]}\n",
    "\n",
    "resultDF['temp'] = resultDF['real_label'].map(values_dict)\n",
    "resultDF[['encode_1','encode_2','encode_3','encode_4']] = resultDF['pop_label'].apply(pd.Series)\n",
    "'''"
   ]
  },
  {
   "cell_type": "markdown",
   "metadata": {},
   "source": [
    "<font color=red>\n",
    "- Distribution of Features  \n",
    "From the QQ-plots and histograms, we can tell that even after being log transformed, features still don’t conform to normal distribution very well, but at least they are now less skewed.\n",
    "  </font>"
   ]
  },
  {
   "cell_type": "code",
   "execution_count": null,
   "metadata": {},
   "outputs": [],
   "source": []
  },
  {
   "cell_type": "markdown",
   "metadata": {},
   "source": [
    "## Training and test dataset"
   ]
  },
  {
   "cell_type": "code",
   "execution_count": 61,
   "metadata": {},
   "outputs": [
    {
     "data": {
      "text/plain": [
       "Index(['business_id', 'user_id', 'review_stars', 'review_like', 'text',\n",
       "       'text_len', 'restaurant_avg_stars', 'restaurant_review_count',\n",
       "       'city_review_count', 'centrality', 'user_avg_stars',\n",
       "       'user_review_count', 'user_fans', 'user_period', 'user_compliments',\n",
       "       'user_votes', 'popularity', 'pop_label'],\n",
       "      dtype='object')"
      ]
     },
     "execution_count": 61,
     "metadata": {},
     "output_type": "execute_result"
    }
   ],
   "source": [
    "trainOrigin.columns"
   ]
  },
  {
   "cell_type": "code",
   "execution_count": 62,
   "metadata": {},
   "outputs": [],
   "source": [
    "cols_non_text = ['review_stars', 'review_like', 'restaurant_avg_stars', 'restaurant_review_count',\n",
    "                 'city_review_count', 'centrality', 'user_avg_stars', 'user_review_count', 'user_fans', \n",
    "                 'user_period', 'user_compliments','user_votes'] \n",
    "# remove non_text: 'text_len'\n",
    "\n",
    "X_train_name = trainOrigin[['business_id', 'user_id']]\n",
    "X_train_other = trainOrigin[cols_non_text]\n",
    "X_train_text = trainOrigin['text']\n",
    "y_train = trainOrigin['pop_label']\n",
    "\n",
    "X_test_name = testOrigin[['business_id', 'user_id']]\n",
    "X_test_other = testOrigin[cols_non_text]\n",
    "X_test_text = testOrigin['text']\n",
    "y_test = testOrigin['pop_label']\n",
    "\n",
    "X_val_name = valOrigin[['business_id', 'user_id']]\n",
    "X_val_other = valOrigin[cols_non_text]\n",
    "X_val_text = valOrigin['text']\n",
    "y_val = valOrigin['pop_label']"
   ]
  },
  {
   "cell_type": "code",
   "execution_count": 63,
   "metadata": {},
   "outputs": [],
   "source": [
    "cols = ['review_stars', 'review_like', 'restaurant_avg_stars',\n",
    "       'restaurant_review_count', 'city_review_count', 'centrality',\n",
    "       'user_avg_stars', 'user_review_count', 'user_fans', 'user_period',\n",
    "       'user_compliments', 'user_votes']\n",
    "X_train_other_new = X_train_other[cols]\n",
    "X_test_other_new = X_test_other[cols]"
   ]
  },
  {
   "cell_type": "code",
   "execution_count": 64,
   "metadata": {},
   "outputs": [
    {
     "data": {
      "text/plain": [
       "pandas.core.series.Series"
      ]
     },
     "execution_count": 64,
     "metadata": {},
     "output_type": "execute_result"
    }
   ],
   "source": [
    "type(X_train_text)"
   ]
  },
  {
   "cell_type": "markdown",
   "metadata": {},
   "source": [
    "## Processing text\n",
    "1. Removed punctuation\n",
    "2. Converted to lowercase\n",
    "3. Removed Stop words"
   ]
  },
  {
   "cell_type": "code",
   "execution_count": 65,
   "metadata": {},
   "outputs": [
    {
     "name": "stderr",
     "output_type": "stream",
     "text": [
      "/usr/local/lib/python3.7/site-packages/ipykernel_launcher.py:3: SettingWithCopyWarning: \n",
      "A value is trying to be set on a copy of a slice from a DataFrame.\n",
      "Try using .loc[row_indexer,col_indexer] = value instead\n",
      "\n",
      "See the caveats in the documentation: https://pandas.pydata.org/pandas-docs/stable/user_guide/indexing.html#returning-a-view-versus-a-copy\n",
      "  This is separate from the ipykernel package so we can avoid doing imports until\n",
      "/usr/local/lib/python3.7/site-packages/ipykernel_launcher.py:4: SettingWithCopyWarning: \n",
      "A value is trying to be set on a copy of a slice from a DataFrame.\n",
      "Try using .loc[row_indexer,col_indexer] = value instead\n",
      "\n",
      "See the caveats in the documentation: https://pandas.pydata.org/pandas-docs/stable/user_guide/indexing.html#returning-a-view-versus-a-copy\n",
      "  after removing the cwd from sys.path.\n",
      "/usr/local/lib/python3.7/site-packages/ipykernel_launcher.py:6: SettingWithCopyWarning: \n",
      "A value is trying to be set on a copy of a slice from a DataFrame.\n",
      "Try using .loc[row_indexer,col_indexer] = value instead\n",
      "\n",
      "See the caveats in the documentation: https://pandas.pydata.org/pandas-docs/stable/user_guide/indexing.html#returning-a-view-versus-a-copy\n",
      "  \n",
      "/usr/local/lib/python3.7/site-packages/ipykernel_launcher.py:7: SettingWithCopyWarning: \n",
      "A value is trying to be set on a copy of a slice from a DataFrame.\n",
      "Try using .loc[row_indexer,col_indexer] = value instead\n",
      "\n",
      "See the caveats in the documentation: https://pandas.pydata.org/pandas-docs/stable/user_guide/indexing.html#returning-a-view-versus-a-copy\n",
      "  import sys\n",
      "/usr/local/lib/python3.7/site-packages/ipykernel_launcher.py:9: SettingWithCopyWarning: \n",
      "A value is trying to be set on a copy of a slice from a DataFrame.\n",
      "Try using .loc[row_indexer,col_indexer] = value instead\n",
      "\n",
      "See the caveats in the documentation: https://pandas.pydata.org/pandas-docs/stable/user_guide/indexing.html#returning-a-view-versus-a-copy\n",
      "  if __name__ == '__main__':\n",
      "/usr/local/lib/python3.7/site-packages/ipykernel_launcher.py:10: SettingWithCopyWarning: \n",
      "A value is trying to be set on a copy of a slice from a DataFrame.\n",
      "Try using .loc[row_indexer,col_indexer] = value instead\n",
      "\n",
      "See the caveats in the documentation: https://pandas.pydata.org/pandas-docs/stable/user_guide/indexing.html#returning-a-view-versus-a-copy\n",
      "  # Remove the CWD from sys.path while we load stuff.\n"
     ]
    }
   ],
   "source": [
    "# sentiment analysis\n",
    "from textblob import TextBlob\n",
    "X_train_other[\"text_polarity\"] = X_train_text.apply(lambda text: TextBlob(text).sentiment.polarity)\n",
    "X_train_other[\"text_subjectivity\"] = X_train_text.apply(lambda text: TextBlob(text).sentiment.subjectivity)\n",
    "\n",
    "X_test_other[\"text_polarity\"] = X_test_text.apply(lambda text: TextBlob(text).sentiment.polarity)\n",
    "X_test_other[\"text_subjectivity\"] = X_test_text.apply(lambda text: TextBlob(text).sentiment.subjectivity)\n",
    "\n",
    "X_val_other[\"text_polarity\"] = X_val_text.apply(lambda text: TextBlob(text).sentiment.polarity)\n",
    "X_val_other[\"text_subjectivity\"] = X_val_text.apply(lambda text: TextBlob(text).sentiment.subjectivity)"
   ]
  },
  {
   "cell_type": "code",
   "execution_count": 66,
   "metadata": {},
   "outputs": [],
   "source": [
    "def textCleaner(texts):\n",
    "    # Lower case\n",
    "    texts = texts.str.lower()\n",
    "\n",
    "    # Remove punctuation and spaces\n",
    "    texts = texts.str.replace(r'\\n', ' ')\n",
    "    texts = texts.str.replace(r'\\t', ' ')\n",
    "    texts = texts.str.replace(r'\\'', '\\'')\n",
    "    texts = texts.str.replace(r\"[^\\w\\s']\", ' ')\n",
    "    texts = texts.str.strip()\n",
    "    \n",
    "    # Remove stop words\n",
    "    STOPWORDS = set(stopwords.words('english'))\n",
    "    for i in texts.index:\n",
    "        texts[i] = ' '.join(word for word in texts[i].split() if word not in STOPWORDS)\n",
    "        \n",
    "    return texts "
   ]
  },
  {
   "cell_type": "code",
   "execution_count": 67,
   "metadata": {},
   "outputs": [],
   "source": [
    "def stemming(texts):\n",
    "    stemmer = PorterStemmer()\n",
    "    texts = texts.apply(lambda x: ' '.join([stemmer.stem(word) for word in x.split()]))\n",
    "    return texts"
   ]
  },
  {
   "cell_type": "code",
   "execution_count": 68,
   "metadata": {},
   "outputs": [],
   "source": [
    "def processingText(texts):\n",
    "    texts = textCleaner(texts)\n",
    "    texts = stemming(texts)\n",
    "    return texts"
   ]
  },
  {
   "cell_type": "code",
   "execution_count": 69,
   "metadata": {},
   "outputs": [],
   "source": [
    "xList = [X_train_text, X_test_text , X_val_text]\n",
    "\n",
    "xList = [processingText(x) for x in xList]\n",
    "\n",
    "X_train_text = xList[0]\n",
    "X_test_text = xList[1]\n",
    "X_val_text = xList[2]"
   ]
  },
  {
   "cell_type": "code",
   "execution_count": 70,
   "metadata": {},
   "outputs": [
    {
     "name": "stderr",
     "output_type": "stream",
     "text": [
      "/usr/local/lib/python3.7/site-packages/ipykernel_launcher.py:1: FutureWarning: Passing a negative integer is deprecated in version 1.0 and will not be supported in future version. Instead, use None to not limit the column width.\n",
      "  \"\"\"Entry point for launching an IPython kernel.\n"
     ]
    },
    {
     "data": {
      "text/plain": [
       "0    drive fruit root almost daili final decid give tri unfortun good thing say place nice decor walk greet one girl look menu ask first time told ye assum would explain menu nope daughter' go strawberri banana smoothi menu smoothi strawberri banana mix stuff ask would abl make one strawberri banana said alreadi pre made continu look menu differ girl came said would abl make smoothi thank husband knew want get acai bowl look differ option found one want tri menu pitaya ask could get acai instead told alreadi pre made went one made acai blueberri like weee hesist ask would abl leav sinc everyth seem pre made husband ask luckili said could leav whew long wait get order daughter drank smoothi say okay acai bowl okay well best part granola that' least say final tri place definit back stick usual spot bowlolog\n",
       "1    realli know anyon could even write bad review place liter bomb love sweet tea                                                                                                                                                                                                                                                                                                                                                                                                                                                                                                                                                                                                                                                                                                                                                              \n",
       "2    place amaz celebr birthday i'm glad servic atmospher food point say bottomless mimosa mean would definit recommend would go back sure                                                                                                                                                                                                                                                                                                                                                                                                                                                                                                                                                                                                                                                                                                      \n",
       "Name: text, dtype: object"
      ]
     },
     "execution_count": 70,
     "metadata": {},
     "output_type": "execute_result"
    }
   ],
   "source": [
    "pd.set_option('display.max_colwidth', -1)\n",
    "X_test_text.head(3)"
   ]
  },
  {
   "cell_type": "markdown",
   "metadata": {},
   "source": [
    "- tfIdf vector"
   ]
  },
  {
   "cell_type": "code",
   "execution_count": 71,
   "metadata": {},
   "outputs": [],
   "source": [
    "tfIdfVec = TfidfVectorizer(min_df = 0.005, ngram_range=(1,2)) #ngram_range\n",
    "trainCounts = tfIdfVec.fit_transform(X_train_text)\n",
    "#print(type(trainCounts))\n",
    "#print(trainCounts)\n",
    "trainCounts = trainCounts.toarray()\n",
    "#print(trainCounts.shape)"
   ]
  },
  {
   "cell_type": "code",
   "execution_count": 72,
   "metadata": {},
   "outputs": [],
   "source": [
    "#[str(x) for x in tfIdfVec.get_feature_names()]"
   ]
  },
  {
   "cell_type": "markdown",
   "metadata": {},
   "source": [
    "- PCA-like dimmensionality reduction algorithm (using by default Randomized SVD) which works on sparse data"
   ]
  },
  {
   "cell_type": "code",
   "execution_count": 73,
   "metadata": {},
   "outputs": [],
   "source": [
    "from sklearn.decomposition import TruncatedSVD\n",
    "svd = TruncatedSVD(n_components=100, n_iter=7, random_state=42)\n",
    "svd_trainCounts= svd.fit_transform(trainCounts) "
   ]
  },
  {
   "cell_type": "code",
   "execution_count": 74,
   "metadata": {},
   "outputs": [
    {
     "data": {
      "text/plain": [
       "['food',\n",
       " 'good',\n",
       " 'place',\n",
       " 'great',\n",
       " 'order',\n",
       " 'servic',\n",
       " 'time',\n",
       " 'go',\n",
       " 'like',\n",
       " 'get',\n",
       " 'back',\n",
       " 'love',\n",
       " 'one',\n",
       " 'tri',\n",
       " 'come',\n",
       " 'restaur',\n",
       " 'realli',\n",
       " 'would',\n",
       " 'chicken',\n",
       " 'us',\n",
       " 'delici',\n",
       " 'wait',\n",
       " 'amaz',\n",
       " 'best',\n",
       " 'alway',\n",
       " 'also',\n",
       " 'got',\n",
       " 'nice',\n",
       " 'definit',\n",
       " 'came',\n",
       " 'drink',\n",
       " 'eat',\n",
       " 'staff',\n",
       " 'fri',\n",
       " 'even',\n",
       " 'price',\n",
       " 'friendli',\n",
       " 'menu',\n",
       " 'recommend',\n",
       " 'pizza',\n",
       " 'well',\n",
       " 'tabl',\n",
       " 'tast',\n",
       " 'make',\n",
       " 'server',\n",
       " 'want',\n",
       " 'ask',\n",
       " 'first',\n",
       " 'look',\n",
       " 'littl',\n",
       " 'fresh',\n",
       " 'experi',\n",
       " 'burger',\n",
       " 'never',\n",
       " 'sauc',\n",
       " 'meal',\n",
       " 'locat',\n",
       " 'salad',\n",
       " 'dish',\n",
       " 'went',\n",
       " 'flavor',\n",
       " 'made',\n",
       " 'everyth',\n",
       " 'bar',\n",
       " 'take',\n",
       " 'enjoy',\n",
       " 'peopl',\n",
       " 'pretti',\n",
       " 'lunch',\n",
       " 'taco',\n",
       " 'custom',\n",
       " 'friend',\n",
       " 'chees',\n",
       " 'much',\n",
       " 'favorit',\n",
       " 'better',\n",
       " 'say',\n",
       " 'could',\n",
       " 'visit',\n",
       " 'dinner',\n",
       " 'minut',\n",
       " 'ever',\n",
       " 'busi',\n",
       " 'seat',\n",
       " 'night',\n",
       " 'side',\n",
       " 'thing',\n",
       " 'give',\n",
       " 'excel',\n",
       " 'super',\n",
       " 'disappoint',\n",
       " 'lot',\n",
       " 'sure',\n",
       " 'star',\n",
       " 'atmospher',\n",
       " 'serv',\n",
       " 'day',\n",
       " 'come back',\n",
       " 'awesom',\n",
       " 'hour',\n",
       " 'sandwich',\n",
       " 'know',\n",
       " 'way',\n",
       " 'meat',\n",
       " 'breakfast',\n",
       " 'sushi',\n",
       " 'portion',\n",
       " 'spot',\n",
       " 'right',\n",
       " 'two',\n",
       " 'everi',\n",
       " 'cook',\n",
       " 'vega',\n",
       " 'need',\n",
       " 'took',\n",
       " 'said',\n",
       " 'top',\n",
       " 'worth',\n",
       " 'bit',\n",
       " 'still',\n",
       " 'rice',\n",
       " 'area',\n",
       " 'bad',\n",
       " 'manag',\n",
       " 'work',\n",
       " 'hot',\n",
       " 'around',\n",
       " 'small',\n",
       " 'perfect',\n",
       " 'think',\n",
       " 'check',\n",
       " 'qualiti',\n",
       " 'happi',\n",
       " 'special',\n",
       " 'option',\n",
       " 'beer',\n",
       " 'can',\n",
       " 'steak',\n",
       " 'roll',\n",
       " 'famili',\n",
       " 'long',\n",
       " 'new',\n",
       " 'clean',\n",
       " 'next',\n",
       " 'mani',\n",
       " 'waitress',\n",
       " 'review',\n",
       " 'soup',\n",
       " 'tasti',\n",
       " 'feel',\n",
       " 'differ',\n",
       " 'go back',\n",
       " 'see',\n",
       " '10',\n",
       " 'walk',\n",
       " 'sinc',\n",
       " 'help',\n",
       " 'great food',\n",
       " 'seem',\n",
       " 'someth',\n",
       " 'last',\n",
       " 'stop',\n",
       " 'first time',\n",
       " 'anoth',\n",
       " 'use',\n",
       " 'year',\n",
       " 'expect',\n",
       " 'fast',\n",
       " 'sweet',\n",
       " 'egg',\n",
       " 'though',\n",
       " 'reason',\n",
       " 'attent',\n",
       " 'bread',\n",
       " 'beef',\n",
       " 'coffe',\n",
       " 'highli',\n",
       " 'shrimp',\n",
       " 'big',\n",
       " 'plate',\n",
       " 'find',\n",
       " 'overal',\n",
       " 'spici',\n",
       " 'food good',\n",
       " 'home',\n",
       " 'great servic',\n",
       " 'custom servic',\n",
       " 'quick',\n",
       " 'thank',\n",
       " 'll',\n",
       " 'dessert',\n",
       " 'husband',\n",
       " 'food great',\n",
       " 'person',\n",
       " 'select',\n",
       " 'sit',\n",
       " 'absolut',\n",
       " 'told',\n",
       " 'fish',\n",
       " 'pork',\n",
       " 'waiter',\n",
       " 'highli recommend',\n",
       " 'open',\n",
       " 'realli good',\n",
       " 'enough',\n",
       " 'dine',\n",
       " 'item',\n",
       " 'start',\n",
       " 'larg',\n",
       " 'wing',\n",
       " 'call',\n",
       " 'noth',\n",
       " 'return',\n",
       " 'end',\n",
       " 'wonder',\n",
       " 'ok',\n",
       " 'noodl',\n",
       " 'offer',\n",
       " 'usual',\n",
       " 'howev',\n",
       " 'decid',\n",
       " 'town',\n",
       " 'appet',\n",
       " 'we',\n",
       " 'huge',\n",
       " 'potato',\n",
       " 'must',\n",
       " 'full',\n",
       " 'fantast',\n",
       " 'close',\n",
       " 'everyon',\n",
       " 'insid',\n",
       " 'that',\n",
       " 'fun',\n",
       " 'away',\n",
       " 'kind',\n",
       " 'probabl',\n",
       " 'cold',\n",
       " 'line',\n",
       " 'love place',\n",
       " 'servic great',\n",
       " 'bowl',\n",
       " 'good food',\n",
       " 'water',\n",
       " 'left',\n",
       " 'point',\n",
       " 'room',\n",
       " 'quit',\n",
       " 'half',\n",
       " 'choic',\n",
       " 'size',\n",
       " 'actual',\n",
       " 'park',\n",
       " 'found',\n",
       " 'anyth',\n",
       " 'let',\n",
       " 'kid',\n",
       " 'owner',\n",
       " 'live',\n",
       " 'chip',\n",
       " 'put',\n",
       " 'arriv',\n",
       " 'care',\n",
       " 'outsid',\n",
       " 'decent',\n",
       " 'free',\n",
       " 'gave',\n",
       " 'pay',\n",
       " 'reserv',\n",
       " 'hous',\n",
       " 'thai',\n",
       " 'wife',\n",
       " 'wine',\n",
       " 'ice',\n",
       " 'thought',\n",
       " 'hard',\n",
       " 'today',\n",
       " 'group',\n",
       " 'grill',\n",
       " 'parti',\n",
       " 'mayb',\n",
       " 'tell',\n",
       " 'bbq',\n",
       " 'especi',\n",
       " 'old',\n",
       " 'guy',\n",
       " 'els',\n",
       " 'great place',\n",
       " 'bring',\n",
       " 'brunch',\n",
       " 'fill',\n",
       " 'hand',\n",
       " 'leav',\n",
       " 'week',\n",
       " 'wrong',\n",
       " 'far',\n",
       " 'tea',\n",
       " 'high',\n",
       " 'cream',\n",
       " 'keep',\n",
       " 'sat',\n",
       " 'happi hour',\n",
       " 'share',\n",
       " '20',\n",
       " 'cool',\n",
       " 'pasta',\n",
       " '30',\n",
       " 'wish',\n",
       " 'mexican',\n",
       " 'extra',\n",
       " 'final',\n",
       " 'coupl',\n",
       " 'bartend',\n",
       " 'decor',\n",
       " 'without',\n",
       " 'drive',\n",
       " 'brought',\n",
       " 'almost',\n",
       " 'impress',\n",
       " 'pick',\n",
       " 'stay',\n",
       " 'la',\n",
       " 'name',\n",
       " 'authent',\n",
       " 'extrem',\n",
       " 'they',\n",
       " '15',\n",
       " 'chang',\n",
       " 'yummi',\n",
       " 'least',\n",
       " 'bite',\n",
       " 'second',\n",
       " 'bacon',\n",
       " 'dri',\n",
       " 'slow',\n",
       " 'rib',\n",
       " 'green',\n",
       " 'local',\n",
       " 'food servic',\n",
       " 'crispi',\n",
       " 'season',\n",
       " 'employe',\n",
       " 'done',\n",
       " 'buffet',\n",
       " 'strip',\n",
       " 'pretti good',\n",
       " 'okay',\n",
       " 'ate',\n",
       " 'money',\n",
       " 'next time',\n",
       " 'surpris',\n",
       " 'everi time',\n",
       " 'sever',\n",
       " 'onion',\n",
       " 'varieti',\n",
       " 'whole',\n",
       " 'music',\n",
       " 'cake',\n",
       " 'good servic',\n",
       " 'vegan',\n",
       " 'there',\n",
       " 'style',\n",
       " 'min',\n",
       " 'burrito',\n",
       " 'three',\n",
       " 'hope',\n",
       " 'amount',\n",
       " 'bean',\n",
       " 'piec',\n",
       " 'patio',\n",
       " 'perfectli',\n",
       " 'salsa',\n",
       " 'gener',\n",
       " 'miss',\n",
       " 'show',\n",
       " 'ramen',\n",
       " 'italian',\n",
       " 'finish',\n",
       " 'birthday',\n",
       " 'rude',\n",
       " 'veggi',\n",
       " 'kitchen',\n",
       " 'regular',\n",
       " 'front',\n",
       " 'chef',\n",
       " 'garlic',\n",
       " 'warm',\n",
       " 'crab',\n",
       " 'includ',\n",
       " 'incred',\n",
       " 'servic good',\n",
       " 'game',\n",
       " 'pho',\n",
       " 'quickli',\n",
       " 'felt',\n",
       " 'terribl',\n",
       " 'worst',\n",
       " 'cocktail',\n",
       " 'beauti',\n",
       " 'part',\n",
       " 'salmon',\n",
       " 'definit come',\n",
       " 'staff friendli',\n",
       " 'prepar',\n",
       " 'averag',\n",
       " 'food delici',\n",
       " 'door',\n",
       " 'tender',\n",
       " 'charg',\n",
       " 'pleas',\n",
       " 'instead',\n",
       " 'curri',\n",
       " 'horribl',\n",
       " 'yelp',\n",
       " 'someon',\n",
       " 'late',\n",
       " 'cours',\n",
       " 'total',\n",
       " 'definit back',\n",
       " 'watch',\n",
       " 'pancak',\n",
       " 'soon',\n",
       " 'either',\n",
       " 'fan',\n",
       " 'plenti',\n",
       " 'talk',\n",
       " 'recommend place',\n",
       " 'receiv',\n",
       " 'light',\n",
       " 'one best',\n",
       " 'suggest',\n",
       " 'street',\n",
       " 'tip',\n",
       " 'red',\n",
       " 'entre',\n",
       " 'seafood',\n",
       " 'abl',\n",
       " 'consist',\n",
       " 'welcom',\n",
       " 'ambianc',\n",
       " 'toast',\n",
       " 'except',\n",
       " 'chines',\n",
       " 'make sure',\n",
       " 'less',\n",
       " 'pack',\n",
       " 'oh',\n",
       " 'hotel',\n",
       " 'slice',\n",
       " 'vibe',\n",
       " 'deal',\n",
       " 'food amaz',\n",
       " 'shop',\n",
       " 'would recommend',\n",
       " 'tast like',\n",
       " 'later',\n",
       " 'sunday',\n",
       " 'would definit',\n",
       " 'french',\n",
       " 'margarita',\n",
       " 'waffl',\n",
       " 'wow',\n",
       " 'readi',\n",
       " 'weekend',\n",
       " 'bill',\n",
       " 'yet',\n",
       " 'lobster',\n",
       " 'add',\n",
       " 'mac',\n",
       " 'anyon',\n",
       " 'move',\n",
       " 'run',\n",
       " 'greet',\n",
       " 'plu',\n",
       " 'mix',\n",
       " 'although',\n",
       " 'la vega',\n",
       " 'often',\n",
       " 'expens',\n",
       " 'corn',\n",
       " 'treat',\n",
       " 'job',\n",
       " 'ingredi',\n",
       " 'crowd',\n",
       " 'saturday',\n",
       " 'choos',\n",
       " 'tomato',\n",
       " 'may',\n",
       " 'glad',\n",
       " 'real',\n",
       " 'fine',\n",
       " 'lack',\n",
       " 'short',\n",
       " 'date',\n",
       " 'saw',\n",
       " 'cut',\n",
       " 'flavour',\n",
       " 'dog',\n",
       " 'set',\n",
       " 'complet',\n",
       " 'happen',\n",
       " 'twice',\n",
       " 'list',\n",
       " 'trip',\n",
       " 'main',\n",
       " 'ad',\n",
       " 'glass',\n",
       " 'hit',\n",
       " 'cute',\n",
       " 'play',\n",
       " 'alreadi',\n",
       " 'servic food',\n",
       " 'crave',\n",
       " 'bland',\n",
       " 'might',\n",
       " 'girl',\n",
       " 'dip',\n",
       " 'butter',\n",
       " 'feel like',\n",
       " 'issu',\n",
       " 'liter',\n",
       " 'spice',\n",
       " 'outstand',\n",
       " 'type',\n",
       " 'ladi',\n",
       " 'friendli staff',\n",
       " 'accommod',\n",
       " 'honestli',\n",
       " 'hostess',\n",
       " 'uniqu',\n",
       " 'comfort',\n",
       " 'rememb',\n",
       " 'refil',\n",
       " 'boyfriend',\n",
       " 'hungri',\n",
       " 'place go',\n",
       " 'mushroom',\n",
       " 'nacho',\n",
       " 'white',\n",
       " 'eaten',\n",
       " 'definit recommend',\n",
       " 'pricey',\n",
       " 'vegetarian',\n",
       " 'chocol',\n",
       " 'crust',\n",
       " 'ye',\n",
       " 'pepper',\n",
       " 'counter',\n",
       " 'tri place',\n",
       " 'easi',\n",
       " 'store',\n",
       " 'entir',\n",
       " 'mac chees',\n",
       " 'month',\n",
       " 'past',\n",
       " 'grab',\n",
       " 'tonight',\n",
       " 'rate',\n",
       " 'problem',\n",
       " 'food alway',\n",
       " 'can wait',\n",
       " 'ago',\n",
       " 'mean',\n",
       " 'empti',\n",
       " 'turn',\n",
       " 'deliveri',\n",
       " 'dress',\n",
       " 'base',\n",
       " 'place great',\n",
       " 'even though',\n",
       " 'lol',\n",
       " 'salti',\n",
       " 'reason price',\n",
       " 'believ',\n",
       " 'ice cream',\n",
       " 'present',\n",
       " 'friday',\n",
       " 'look like',\n",
       " 'unfortun',\n",
       " 'given',\n",
       " 'cheap',\n",
       " 'guess',\n",
       " 'mind',\n",
       " 'one favorit',\n",
       " 'simpl',\n",
       " 'earli',\n",
       " 'notic',\n",
       " 'basic',\n",
       " 'morn',\n",
       " 'deliv',\n",
       " 'mention',\n",
       " 'understand',\n",
       " 'space',\n",
       " 'sometim',\n",
       " 'sausag',\n",
       " 'view',\n",
       " 'loud',\n",
       " 'kept',\n",
       " 'cup',\n",
       " 'recent',\n",
       " 'wrap',\n",
       " 'soft',\n",
       " 'pleasant',\n",
       " 'combo',\n",
       " 'korean',\n",
       " 'avail',\n",
       " 'broth',\n",
       " 'satisfi',\n",
       " 'normal',\n",
       " 'die',\n",
       " 'excit',\n",
       " 'bun',\n",
       " 'black',\n",
       " 'gem',\n",
       " 'medium',\n",
       " 'smile',\n",
       " '50',\n",
       " 'definit go',\n",
       " 'realli enjoy',\n",
       " 'togeth',\n",
       " 'smoke',\n",
       " 'near',\n",
       " 'gone',\n",
       " 'stand',\n",
       " 'dirti',\n",
       " 'amaz food',\n",
       " 'fri chicken',\n",
       " 'complaint',\n",
       " 'paid',\n",
       " 'establish',\n",
       " 'provid',\n",
       " 'fri rice',\n",
       " 'phone',\n",
       " 'back tri',\n",
       " 'qualiti food',\n",
       " 'veget',\n",
       " 'phoenix',\n",
       " 'compar',\n",
       " 'rush',\n",
       " 'poor',\n",
       " 'salt',\n",
       " 'typic',\n",
       " 'environ',\n",
       " 'avocado',\n",
       " 'other',\n",
       " 'consid',\n",
       " 'along',\n",
       " 'super friendli',\n",
       " 'chili',\n",
       " 'pie',\n",
       " 'read',\n",
       " 'level',\n",
       " 'food came',\n",
       " 'brisket',\n",
       " 'rest',\n",
       " 'interest',\n",
       " 'heard',\n",
       " 'pictur',\n",
       " 'mediocr',\n",
       " 'card',\n",
       " 'downtown',\n",
       " 'four',\n",
       " 'long time',\n",
       " 'request',\n",
       " 'immedi',\n",
       " 'appreci',\n",
       " 'healthi',\n",
       " 'pull',\n",
       " 'life',\n",
       " 'mouth',\n",
       " 'box',\n",
       " 'fact',\n",
       " '12',\n",
       " 'bake',\n",
       " 'man',\n",
       " 'daughter',\n",
       " 'place eat',\n",
       " 'delici food',\n",
       " 'stuff',\n",
       " 'valu',\n",
       " 'rather',\n",
       " 'app',\n",
       " 'across',\n",
       " 'world',\n",
       " 'mexican food',\n",
       " 'head',\n",
       " 'five',\n",
       " 'yum',\n",
       " 'great experi',\n",
       " 'prefer',\n",
       " 'lamb',\n",
       " 'smell',\n",
       " 'citi',\n",
       " 'plan',\n",
       " 'order food',\n",
       " 'cafe',\n",
       " 'guest',\n",
       " 'great atmospher',\n",
       " 'son',\n",
       " 'last time',\n",
       " 'rare',\n",
       " 'explain',\n",
       " 'attitud',\n",
       " 'homemad',\n",
       " '10 minut',\n",
       " 'forward',\n",
       " 'meatbal',\n",
       " 'realli like',\n",
       " 'tuna',\n",
       " 'due',\n",
       " 'addit',\n",
       " 'chanc',\n",
       " 'solid',\n",
       " 'pass',\n",
       " 'good place',\n",
       " 'juici',\n",
       " 'serious',\n",
       " 'behind',\n",
       " 'forgot',\n",
       " 'servic excel',\n",
       " 'food drink',\n",
       " 'joint',\n",
       " 'truli',\n",
       " 'floor',\n",
       " 'get food',\n",
       " 'bomb',\n",
       " 'casual',\n",
       " 'seem like',\n",
       " 'standard',\n",
       " 'wall',\n",
       " 'cost',\n",
       " 'friendli servic',\n",
       " 'beyond',\n",
       " 'fast food',\n",
       " 'alway great',\n",
       " 'fix',\n",
       " 'write',\n",
       " 'indian',\n",
       " 'bottl',\n",
       " 'take order',\n",
       " 'celebr',\n",
       " 'mom',\n",
       " '20 minut',\n",
       " 'apolog',\n",
       " 'question',\n",
       " 'taken',\n",
       " 'overpr',\n",
       " 'knowledg',\n",
       " 'last night',\n",
       " '45',\n",
       " 'servic alway',\n",
       " 'etc',\n",
       " 'worker',\n",
       " 'longer',\n",
       " 'spend',\n",
       " 'tradit',\n",
       " 'sorri',\n",
       " 'ton',\n",
       " 'polit',\n",
       " 'knew',\n",
       " '15 minut',\n",
       " 'limit',\n",
       " 'seen',\n",
       " 'sour',\n",
       " 'origin',\n",
       " 'relax',\n",
       " 'favorit place',\n",
       " 'thin',\n",
       " 'outdoor',\n",
       " 'wait staff',\n",
       " 'roast',\n",
       " 'meet',\n",
       " 'melt',\n",
       " 'wast',\n",
       " 'excel servic',\n",
       " '25',\n",
       " 'multipl',\n",
       " 'oyster',\n",
       " 'tortilla',\n",
       " 'alway good',\n",
       " 'window',\n",
       " 'wait time',\n",
       " 'place order',\n",
       " 'love food',\n",
       " 'lettuc',\n",
       " 'look forward',\n",
       " 'continu',\n",
       " 'eye',\n",
       " 'must tri',\n",
       " 'food realli',\n",
       " 'good price',\n",
       " 'sign',\n",
       " 'number',\n",
       " 'split',\n",
       " 'asian',\n",
       " 'complain',\n",
       " 'forget',\n",
       " 'want tri',\n",
       " 'ambienc',\n",
       " 'gave us',\n",
       " 'low',\n",
       " 'fair',\n",
       " 'pickl',\n",
       " 'realli nice',\n",
       " 'shake',\n",
       " 'brown',\n",
       " 'singl',\n",
       " 'also order',\n",
       " 'anyway',\n",
       " 'diner',\n",
       " 'save',\n",
       " 'stuf',\n",
       " 'much better',\n",
       " 'speak',\n",
       " 'biscuit',\n",
       " 'pad',\n",
       " 'cashier',\n",
       " 'mess',\n",
       " 'never disappoint',\n",
       " '00',\n",
       " 'guacamol',\n",
       " 'hash',\n",
       " 'came back',\n",
       " 'great price',\n",
       " 'phenomen',\n",
       " 'dumpl',\n",
       " 'charlott',\n",
       " 'toronto',\n",
       " 'cozi',\n",
       " 'would go',\n",
       " '11',\n",
       " 'food excel',\n",
       " 'place good',\n",
       " 'profession',\n",
       " 'gravi',\n",
       " 'aw',\n",
       " 'right away',\n",
       " 'oil',\n",
       " '40',\n",
       " '30 minut',\n",
       " 'would come',\n",
       " 'host',\n",
       " 'time come',\n",
       " 'notch',\n",
       " 'note',\n",
       " 'portion size',\n",
       " 'bathroom',\n",
       " 'stick',\n",
       " 'textur',\n",
       " 'afford',\n",
       " 'juic',\n",
       " 'go wrong',\n",
       " 'hear',\n",
       " 'tv',\n",
       " 'heat',\n",
       " 'upon',\n",
       " 'greasi',\n",
       " 'sad',\n",
       " 'japanes',\n",
       " 'thru',\n",
       " 'conveni',\n",
       " 'omg',\n",
       " 'food order',\n",
       " 'classic',\n",
       " 'duck',\n",
       " 'price reason',\n",
       " 'calamari',\n",
       " 'platter',\n",
       " 'combin',\n",
       " 'dollar',\n",
       " 'tast good',\n",
       " 'neighborhood',\n",
       " 'lemon',\n",
       " 'touch',\n",
       " 'build',\n",
       " 'chain',\n",
       " 'hang',\n",
       " 'place food',\n",
       " 'crazi',\n",
       " 'booth',\n",
       " 'fruit',\n",
       " 'opinion',\n",
       " 'thick',\n",
       " 'cooki',\n",
       " 'onlin',\n",
       " 'drop',\n",
       " 'go place',\n",
       " 'state',\n",
       " 'mine',\n",
       " 'simpli',\n",
       " 'belli',\n",
       " 'chop',\n",
       " 'we ll',\n",
       " 'time go',\n",
       " 'favourit',\n",
       " 'within',\n",
       " 'cannot',\n",
       " 'desert',\n",
       " 'exactli',\n",
       " 'possibl',\n",
       " 'second time',\n",
       " 'updat',\n",
       " 'bare',\n",
       " 'effici',\n",
       " 'chose',\n",
       " 'give star',\n",
       " 'frequent',\n",
       " 'orang',\n",
       " 'sub',\n",
       " 'filet',\n",
       " 'll back',\n",
       " 'hidden',\n",
       " 'top notch',\n",
       " 'give place',\n",
       " 'afternoon',\n",
       " 'spring',\n",
       " 'fairli',\n",
       " 'creami',\n",
       " 'like place',\n",
       " 'dine experi',\n",
       " 'gluten',\n",
       " 'forev',\n",
       " 'milk',\n",
       " 'answer',\n",
       " 'per',\n",
       " 'ahead',\n",
       " 'young',\n",
       " 'servic friendli',\n",
       " 'convers',\n",
       " 'time food',\n",
       " 'bag',\n",
       " 'bone',\n",
       " 'goe',\n",
       " 'remind',\n",
       " 'idea',\n",
       " 'order chicken',\n",
       " 'rock',\n",
       " 'word',\n",
       " 'face',\n",
       " 'soggi',\n",
       " 'event',\n",
       " 'tuesday',\n",
       " 'slightli',\n",
       " 'benedict',\n",
       " 'tofu',\n",
       " 'buy',\n",
       " 'suppos',\n",
       " 'middl',\n",
       " 'fabul',\n",
       " 'greek',\n",
       " 'place get',\n",
       " 'inform',\n",
       " 'would like',\n",
       " 'anywher',\n",
       " 'caus',\n",
       " 'realiz',\n",
       " 'check us',\n",
       " 'asada',\n",
       " 'even better',\n",
       " 'gyro',\n",
       " 'place amaz',\n",
       " 'felt like',\n",
       " 'dim',\n",
       " 'doubl',\n",
       " 'beat',\n",
       " 'car',\n",
       " 'easili',\n",
       " 'burnt',\n",
       " 'sever time',\n",
       " 'boy',\n",
       " '100',\n",
       " 'cover',\n",
       " 'scottsdal',\n",
       " 'tini',\n",
       " 'littl bit',\n",
       " 'casino',\n",
       " 'sound',\n",
       " 'takeout',\n",
       " 'mani time',\n",
       " 'occas',\n",
       " 'bagel',\n",
       " 'shot',\n",
       " 'matter',\n",
       " 'deep',\n",
       " 'amaz servic',\n",
       " 'time order',\n",
       " 'mash',\n",
       " 'somewher',\n",
       " 'valley',\n",
       " 'turkey',\n",
       " 'best ever',\n",
       " 'kinda',\n",
       " 'excel food',\n",
       " 'non',\n",
       " 'ring',\n",
       " 'fire',\n",
       " 'mango',\n",
       " 'fanci',\n",
       " 'banana',\n",
       " 'definit worth',\n",
       " ...]"
      ]
     },
     "execution_count": 74,
     "metadata": {},
     "output_type": "execute_result"
    }
   ],
   "source": [
    "feature_names = [str(x) for x in tfIdfVec.get_feature_names()]\n",
    "[feature_names[i] for i in svd.components_[0].argsort()[::-1]]"
   ]
  },
  {
   "cell_type": "markdown",
   "metadata": {},
   "source": [
    "Ignored terms that appear in less than 0.5% of the documents. There are 1185 unique tokens.\n",
    "\n",
    "- Process the test and validation data in a manner identical to the training data."
   ]
  },
  {
   "cell_type": "code",
   "execution_count": 75,
   "metadata": {},
   "outputs": [
    {
     "data": {
      "text/plain": [
       "(129141, 1445)"
      ]
     },
     "execution_count": 75,
     "metadata": {},
     "output_type": "execute_result"
    }
   ],
   "source": [
    "testCounts = tfIdfVec.transform(X_test_text)\n",
    "testCounts = testCounts.toarray()\n",
    "testCounts.shape"
   ]
  },
  {
   "cell_type": "code",
   "execution_count": 76,
   "metadata": {},
   "outputs": [
    {
     "data": {
      "text/plain": [
       "(102135, 1445)"
      ]
     },
     "execution_count": 76,
     "metadata": {},
     "output_type": "execute_result"
    }
   ],
   "source": [
    "valCounts = tfIdfVec.transform(X_val_text)\n",
    "valCounts = valCounts.toarray()\n",
    "valCounts.shape"
   ]
  },
  {
   "cell_type": "code",
   "execution_count": 77,
   "metadata": {},
   "outputs": [
    {
     "data": {
      "text/plain": [
       "(129141, 100)"
      ]
     },
     "execution_count": 77,
     "metadata": {},
     "output_type": "execute_result"
    }
   ],
   "source": [
    "svd_testCounts = svd.transform(testCounts) \n",
    "svd_testCounts.shape"
   ]
  },
  {
   "cell_type": "code",
   "execution_count": 78,
   "metadata": {},
   "outputs": [
    {
     "data": {
      "text/plain": [
       "(102135, 100)"
      ]
     },
     "execution_count": 78,
     "metadata": {},
     "output_type": "execute_result"
    }
   ],
   "source": [
    "svd_valCounts = svd.transform(valCounts) \n",
    "svd_valCounts.shape"
   ]
  },
  {
   "cell_type": "code",
   "execution_count": 79,
   "metadata": {},
   "outputs": [],
   "source": [
    "from scipy import stats\n",
    "#stats.describe(trainCounts, axis=None)\n",
    "# tfIdfVec: 0~1"
   ]
  },
  {
   "cell_type": "markdown",
   "metadata": {},
   "source": [
    "## Join with other features\n",
    "- StandardScaler"
   ]
  },
  {
   "cell_type": "code",
   "execution_count": 80,
   "metadata": {},
   "outputs": [
    {
     "data": {
      "text/plain": [
       "Index(['review_stars', 'review_like', 'restaurant_avg_stars',\n",
       "       'restaurant_review_count', 'city_review_count', 'centrality',\n",
       "       'user_avg_stars', 'user_review_count', 'user_fans', 'user_period',\n",
       "       'user_compliments', 'user_votes', 'text_polarity', 'text_subjectivity'],\n",
       "      dtype='object')"
      ]
     },
     "execution_count": 80,
     "metadata": {},
     "output_type": "execute_result"
    }
   ],
   "source": [
    "X_train_other.columns"
   ]
  },
  {
   "cell_type": "code",
   "execution_count": 81,
   "metadata": {},
   "outputs": [],
   "source": [
    "# correlation\n",
    "# Plot correlation matrix.\n",
    "def corr_plot(df):\n",
    "    plt.figure(figsize=(10,10))\n",
    "    custom_palette = sns.diverging_palette(10, 220, n=7) # customized color palette\n",
    "    # plot correlation\n",
    "    corr = sns.heatmap(df.corr(), cmap = custom_palette, annot = True, center=0.0)\n",
    "    x_label = list(corr.get_xticklabels())\n",
    "    _ = corr.set_xticklabels(x_label, rotation=30, horizontalalignment=\"right\")\n",
    "    plt.title('Correlation Matrix of Target, Target_Class, Feature, and Feature_Std',\n",
    "            fontsize=15)\n",
    "    plt.show()"
   ]
  },
  {
   "cell_type": "code",
   "execution_count": 82,
   "metadata": {},
   "outputs": [
    {
     "data": {
      "image/png": "[encoded data removed]",
      "text/plain": [
       "<Figure size 720x720 with 2 Axes>"
      ]
     },
     "metadata": {
      "needs_background": "light"
     },
     "output_type": "display_data"
    }
   ],
   "source": [
    "corr_plot(pd.concat([X_train_other, y_train], axis=1))"
   ]
  },
  {
   "cell_type": "code",
   "execution_count": 83,
   "metadata": {},
   "outputs": [],
   "source": [
    "#from sklearn.preprocessing import StandardScaler\n",
    "#scaler = StandardScaler()\n",
    "\n",
    "from sklearn.preprocessing import MinMaxScaler\n",
    "scaler = MinMaxScaler(feature_range=(0, 1))\n",
    "\n",
    "scale_X_train_other = scaler.fit_transform(X_train_other)\n",
    "scale_X_test_other = scaler.fit_transform(X_test_other)\n",
    "scale_X_val_other = scaler.fit_transform(X_val_other)"
   ]
  },
  {
   "cell_type": "code",
   "execution_count": 84,
   "metadata": {},
   "outputs": [
    {
     "data": {
      "image/png": "[encoded data removed]",
      "text/plain": [
       "<Figure size 720x720 with 2 Axes>"
      ]
     },
     "metadata": {
      "needs_background": "light"
     },
     "output_type": "display_data"
    }
   ],
   "source": [
    "cols_non_text = ['review_stars', 'review_like', 'restaurant_avg_stars', 'restaurant_review_count',\n",
    "                 'city_review_count', 'centrality', 'user_avg_stars', 'user_review_count', 'user_fans', \n",
    "                 'user_period', 'user_compliments','user_votes', 'text_polarity', 'text_subjectivity']\n",
    "# removed cols: 'text_len'\n",
    "scale_X_train_other = pd.DataFrame(scale_X_train_other)\n",
    "scale_X_train_other.columns = cols_non_text\n",
    "\n",
    "corr_plot(pd.concat([scale_X_train_other, y_train], axis=1))"
   ]
  },
  {
   "cell_type": "markdown",
   "metadata": {},
   "source": [
    "- combine the vector output along with numerical data\n",
    "\n",
    "https://datascience.stackexchange.com/questions/987/text-categorization-combining-different-kind-of-features"
   ]
  },
  {
   "cell_type": "code",
   "execution_count": 85,
   "metadata": {},
   "outputs": [
    {
     "name": "stdout",
     "output_type": "stream",
     "text": [
      "All: (428724, 1459) (129141, 1459) (102135, 1459)\n",
      "All_SVD: (428724, 114) (129141, 114) (102135, 114)\n"
     ]
    }
   ],
   "source": [
    "# X_***All for all text features + numeric features\n",
    "X_trainAll = np.hstack((trainCounts, X_train_other))\n",
    "X_testAll = np.hstack((testCounts, X_test_other))\n",
    "X_valAll = np.hstack((valCounts, X_val_other))\n",
    "\n",
    "# X_***All_SVD for SVD text features + numeric features\n",
    "'''\n",
    "X_trainAll_SVD = pd.concat([pd.DataFrame(svd_trainCounts), X_train_other], axis=1)\n",
    "X_testAll_SVD = pd.concat([pd.DataFrame(svd_testCounts), X_test_other], axis=1)\n",
    "X_valAll_SVD = pd.concat([pd.DataFrame(svd_valCounts), X_val_other], axis=1)\n",
    "'''\n",
    "X_trainAll_SVD = pd.concat([pd.DataFrame(svd_trainCounts), pd.DataFrame(scale_X_train_other, columns=cols_non_text)], axis=1)\n",
    "X_testAll_SVD = pd.concat([pd.DataFrame(svd_testCounts), pd.DataFrame(scale_X_test_other, columns=cols_non_text)], axis=1)\n",
    "X_valAll_SVD = pd.concat([pd.DataFrame(svd_valCounts), pd.DataFrame(scale_X_val_other, columns=cols_non_text)], axis=1)\n",
    "\n",
    "print(\"All:\", X_trainAll.shape, X_testAll.shape, X_valAll.shape)\n",
    "print(\"All_SVD:\", X_trainAll_SVD.shape, X_testAll_SVD.shape, X_valAll_SVD.shape)"
   ]
  },
  {
   "cell_type": "code",
   "execution_count": 86,
   "metadata": {},
   "outputs": [
    {
     "data": {
      "text/plain": [
       "\"\\n# to sparse\\nfrom scipy import sparse\\nnewfeatures = sparse.hstack((trainCounts, X_train[['stars']])).tocsr()\\nprint(newfeatures[])\\n\""
      ]
     },
     "execution_count": 86,
     "metadata": {},
     "output_type": "execute_result"
    }
   ],
   "source": [
    "'''\n",
    "# to sparse\n",
    "from scipy import sparse\n",
    "newfeatures = sparse.hstack((trainCounts, X_train[['stars']])).tocsr()\n",
    "print(newfeatures[])\n",
    "'''"
   ]
  },
  {
   "cell_type": "code",
   "execution_count": null,
   "metadata": {},
   "outputs": [],
   "source": []
  },
  {
   "cell_type": "markdown",
   "metadata": {},
   "source": [
    "## Build Models - Trial of Different Models\n",
    "\n",
    "<font color=red>These models will be compared based on their performance (F1 score) on test dataset. The best model will be carried on to the next section, that is hyper-parameter fine tuning. So that we can further improve its accuracy.</font>\n",
    "\n",
    "**possible features: trainCounts, X_train_other, X_trainAll, X_trainAll_SVD**\n",
    "\n",
    "- xGBoost"
   ]
  },
  {
   "cell_type": "code",
   "execution_count": 87,
   "metadata": {},
   "outputs": [
    {
     "data": {
      "text/plain": [
       "'\\nfrom sklearn.pipeline import Pipeline\\nimport xgboost as xgb\\n\\n#pipe = Pipeline([(\"scaler\",MinMaxScaler()),(\"svm\",SVC())])\\n\\nmodel = Pipeline([(\\'xgboost\\', xgb.XGBClassifier(eta=0.1, max_depth=8, \\n                                                objective=\\'multi:softmax\\', num_class=5))])\\n# eta=0.1, max_depth=10 -> small RMSE & low accuracy\\n# eta=0.3, max_depth=10 -> high RMSE & high accuracy\\nmax_delta_step\\n#model.fit(X_trainAll_SVD, y_train)\\n'"
      ]
     },
     "execution_count": 87,
     "metadata": {},
     "output_type": "execute_result"
    }
   ],
   "source": [
    "'''\n",
    "from sklearn.pipeline import Pipeline\n",
    "import xgboost as xgb\n",
    "\n",
    "#pipe = Pipeline([(\"scaler\",MinMaxScaler()),(\"svm\",SVC())])\n",
    "\n",
    "model = Pipeline([('xgboost', xgb.XGBClassifier(eta=0.1, max_depth=8, \n",
    "                                                objective='multi:softmax', num_class=5))])\n",
    "# eta=0.1, max_depth=10 -> small RMSE & low accuracy\n",
    "# eta=0.3, max_depth=10 -> high RMSE & high accuracy\n",
    "max_delta_step\n",
    "#model.fit(X_trainAll_SVD, y_train)\n",
    "'''"
   ]
  },
  {
   "cell_type": "code",
   "execution_count": 88,
   "metadata": {},
   "outputs": [
    {
     "data": {
      "text/plain": [
       "'\\nimport xgboost as xgb\\ny_train.replace({1:0, 2:1, 3:2, 4:3, 5:4},  inplace=True)\\ndtrain = xgb.DMatrix(X_trainAll_SVD, y_train)\\ny_test.replace({1:0, 2:1, 3:2, 4:3, 5:4},  inplace=True)\\ndtest = xgb.DMatrix(X_testAll_SVD, y_test)\\n'"
      ]
     },
     "execution_count": 88,
     "metadata": {},
     "output_type": "execute_result"
    }
   ],
   "source": [
    "'''\n",
    "import xgboost as xgb\n",
    "y_train.replace({1:0, 2:1, 3:2, 4:3, 5:4},  inplace=True)\n",
    "dtrain = xgb.DMatrix(X_trainAll_SVD, y_train)\n",
    "y_test.replace({1:0, 2:1, 3:2, 4:3, 5:4},  inplace=True)\n",
    "dtest = xgb.DMatrix(X_testAll_SVD, y_test)\n",
    "'''"
   ]
  },
  {
   "cell_type": "code",
   "execution_count": 89,
   "metadata": {},
   "outputs": [
    {
     "data": {
      "text/plain": [
       "'\\n# cv\\nparams = {\"objective\":\"multi:softprob\",\\'learning_rate\\': 0.3,\\'max_depth\\': 10}\\nextra = {\\'num_class\\': 5}\\nparams.update(extra)\\ncv_results = xgb.cv(dtrain=dtrain, params=params, nfold=5,\\n                    num_boost_round=1000,early_stopping_rounds=10,metrics=\"mlogloss\", seed=123)\\n'"
      ]
     },
     "execution_count": 89,
     "metadata": {},
     "output_type": "execute_result"
    }
   ],
   "source": [
    "'''\n",
    "# cv\n",
    "params = {\"objective\":\"multi:softprob\",'learning_rate': 0.3,'max_depth': 10}\n",
    "extra = {'num_class': 5}\n",
    "params.update(extra)\n",
    "cv_results = xgb.cv(dtrain=dtrain, params=params, nfold=5,\n",
    "                    num_boost_round=1000,early_stopping_rounds=10,metrics=\"mlogloss\", seed=123)\n",
    "'''"
   ]
  },
  {
   "cell_type": "code",
   "execution_count": 90,
   "metadata": {},
   "outputs": [],
   "source": [
    "#cv_results"
   ]
  },
  {
   "cell_type": "code",
   "execution_count": 91,
   "metadata": {},
   "outputs": [],
   "source": [
    "#model = xgb.train(params,dtrain,num_boost_round=cv_results.shape[0])"
   ]
  },
  {
   "cell_type": "code",
   "execution_count": 92,
   "metadata": {},
   "outputs": [
    {
     "name": "stdout",
     "output_type": "stream",
     "text": [
      "[0]\tvalidation_0-mlogloss:1.49209\n",
      "Will train until validation_0-mlogloss hasn't improved in 10 rounds.\n",
      "[1]\tvalidation_0-mlogloss:1.40254\n",
      "[2]\tvalidation_0-mlogloss:1.33169\n",
      "[3]\tvalidation_0-mlogloss:1.27514\n",
      "[4]\tvalidation_0-mlogloss:1.22870\n",
      "[5]\tvalidation_0-mlogloss:1.18990\n",
      "[6]\tvalidation_0-mlogloss:1.15783\n",
      "[7]\tvalidation_0-mlogloss:1.13152\n",
      "[8]\tvalidation_0-mlogloss:1.10788\n",
      "[9]\tvalidation_0-mlogloss:1.08834\n",
      "[10]\tvalidation_0-mlogloss:1.07210\n",
      "[11]\tvalidation_0-mlogloss:1.05913\n",
      "[12]\tvalidation_0-mlogloss:1.04811\n",
      "[13]\tvalidation_0-mlogloss:1.03863\n",
      "[14]\tvalidation_0-mlogloss:1.03162\n",
      "[15]\tvalidation_0-mlogloss:1.02593\n",
      "[16]\tvalidation_0-mlogloss:1.02110\n",
      "[17]\tvalidation_0-mlogloss:1.01832\n",
      "[18]\tvalidation_0-mlogloss:1.01575\n",
      "[19]\tvalidation_0-mlogloss:1.01501\n",
      "[20]\tvalidation_0-mlogloss:1.01392\n",
      "[21]\tvalidation_0-mlogloss:1.01483\n",
      "[22]\tvalidation_0-mlogloss:1.01625\n",
      "[23]\tvalidation_0-mlogloss:1.01869\n",
      "[24]\tvalidation_0-mlogloss:1.02122\n",
      "[25]\tvalidation_0-mlogloss:1.02426\n",
      "[26]\tvalidation_0-mlogloss:1.02832\n",
      "[27]\tvalidation_0-mlogloss:1.03256\n",
      "[28]\tvalidation_0-mlogloss:1.03670\n",
      "[29]\tvalidation_0-mlogloss:1.04076\n",
      "[30]\tvalidation_0-mlogloss:1.04556\n",
      "Stopping. Best iteration:\n",
      "[20]\tvalidation_0-mlogloss:1.01392\n",
      "\n"
     ]
    },
    {
     "data": {
      "text/plain": [
       "XGBClassifier(alpha=1, base_score=0.5, booster='gbtree', colsample_bylevel=1,\n",
       "              colsample_bynode=1, colsample_bytree=1, eta=0.1, gamma=0,\n",
       "              gpu_id=-1, importance_type='gain', interaction_constraints='',\n",
       "              learning_rate=0.100000001, max_delta_step=0, max_depth=8,\n",
       "              min_child_weight=1, missing=nan, monotone_constraints='()',\n",
       "              n_estimators=100, n_jobs=0, num_class=5, num_parallel_tree=1,\n",
       "              objective='multi:softprob', random_state=0, reg_alpha=1,\n",
       "              reg_lambda=1, scale_pos_weight=None, subsample=1,\n",
       "              tree_method='exact', validate_parameters=1, verbosity=None)"
      ]
     },
     "execution_count": 92,
     "metadata": {},
     "output_type": "execute_result"
    }
   ],
   "source": [
    "# possible features: trainCounts, X_train_other, X_trainAll, X_trainAll_SVD\n",
    "from sklearn.pipeline import Pipeline\n",
    "import xgboost as xgb\n",
    "\n",
    "model = xgb.XGBClassifier(eta=0.1, max_depth=8, objective='multi:softmax', alpha=1, num_class=5)\n",
    "eval_set = [(X_valAll_SVD, y_val)]\n",
    "model.fit(X_trainAll_SVD, y_train, early_stopping_rounds=10, \n",
    "          eval_metric=\"mlogloss\", eval_set=eval_set, verbose=True)\n"
   ]
  },
  {
   "cell_type": "code",
   "execution_count": null,
   "metadata": {},
   "outputs": [],
   "source": []
  },
  {
   "cell_type": "markdown",
   "metadata": {},
   "source": [
    "- Naive Bayes"
   ]
  },
  {
   "cell_type": "code",
   "execution_count": 93,
   "metadata": {},
   "outputs": [
    {
     "data": {
      "text/plain": [
       "\"\\nfrom sklearn.naive_bayes import GaussianNB\\nfrom sklearn.naive_bayes import MultinomialNB\\nmodel = Pipeline([('Naive Bayes', MultinomialNB())])\\nmodel.fit(trainCounts, y_train)\\n\""
      ]
     },
     "execution_count": 93,
     "metadata": {},
     "output_type": "execute_result"
    }
   ],
   "source": [
    "'''\n",
    "from sklearn.naive_bayes import GaussianNB\n",
    "from sklearn.naive_bayes import MultinomialNB\n",
    "model = Pipeline([('Naive Bayes', MultinomialNB())])\n",
    "model.fit(trainCounts, y_train)\n",
    "'''"
   ]
  },
  {
   "cell_type": "markdown",
   "metadata": {},
   "source": [
    "- logistic regression"
   ]
  },
  {
   "cell_type": "code",
   "execution_count": 94,
   "metadata": {},
   "outputs": [
    {
     "data": {
      "text/plain": [
       "\"\\nfrom sklearn.linear_model import LogisticRegression\\nmodel = LogisticRegression(multi_class = 'multinomial')\\nmodel.fit(X_trainAll_SVD, y_train)\\n\""
      ]
     },
     "execution_count": 94,
     "metadata": {},
     "output_type": "execute_result"
    }
   ],
   "source": [
    "\n",
    "'''\n",
    "from sklearn.linear_model import LogisticRegression\n",
    "model = LogisticRegression(multi_class = 'multinomial')\n",
    "model.fit(X_trainAll_SVD, y_train)\n",
    "'''"
   ]
  },
  {
   "cell_type": "markdown",
   "metadata": {},
   "source": [
    "- stacking"
   ]
  },
  {
   "cell_type": "code",
   "execution_count": 95,
   "metadata": {},
   "outputs": [
    {
     "data": {
      "text/plain": [
       "'\\nfrom sklearn.datasets import make_classification\\nfrom sklearn.ensemble import StackingClassifier\\nfrom sklearn.linear_model import LogisticRegression\\nfrom sklearn.neighbors import KNeighborsClassifier\\nfrom sklearn.tree import DecisionTreeClassifier\\nfrom sklearn.svm import SVC\\nfrom sklearn.naive_bayes import GaussianNB\\n\\n# define the base models\\nlevel0 = list()\\nlevel0.append((\\'lr\\', LogisticRegression()))\\n#level0.append((\\'knn\\', KNeighborsClassifier()))\\n#level0.append((\\'cart\\', DecisionTreeClassifier()))\\nlevel0.append((\\'svm\\', SVC()))\\n#level0.append((\\'bayes\\', GaussianNB()))\\n#### GBM\\n# define meta learner model\\n#level1 = LogisticRegression()\\nlevel1 = xgb.XGBClassifier(objective=\\'multi:softmax\\', num_class=5)\\n# define the stacking ensemble\\nmodel = StackingClassifier(estimators=level0, final_estimator=level1, cv=5)\\n# fit the model on all available data\\nmodel.fit(X_train_other, y_train)\\n\\n# make a prediction for one example\\n#yhat = model.predict_proba(X_test_other)\\n#print(\\'Predicted Class: %d\\' % (yhat))\\n#accuracy_score(resultDF[\"real_label\"], resultDF[\\'grand_mean\\'])\\n'"
      ]
     },
     "execution_count": 95,
     "metadata": {},
     "output_type": "execute_result"
    }
   ],
   "source": [
    "'''\n",
    "from sklearn.datasets import make_classification\n",
    "from sklearn.ensemble import StackingClassifier\n",
    "from sklearn.linear_model import LogisticRegression\n",
    "from sklearn.neighbors import KNeighborsClassifier\n",
    "from sklearn.tree import DecisionTreeClassifier\n",
    "from sklearn.svm import SVC\n",
    "from sklearn.naive_bayes import GaussianNB\n",
    "\n",
    "# define the base models\n",
    "level0 = list()\n",
    "level0.append(('lr', LogisticRegression()))\n",
    "#level0.append(('knn', KNeighborsClassifier()))\n",
    "#level0.append(('cart', DecisionTreeClassifier()))\n",
    "level0.append(('svm', SVC()))\n",
    "#level0.append(('bayes', GaussianNB()))\n",
    "#### GBM\n",
    "# define meta learner model\n",
    "#level1 = LogisticRegression()\n",
    "level1 = xgb.XGBClassifier(objective='multi:softmax', num_class=5)\n",
    "# define the stacking ensemble\n",
    "model = StackingClassifier(estimators=level0, final_estimator=level1, cv=5)\n",
    "# fit the model on all available data\n",
    "model.fit(X_train_other, y_train)\n",
    "\n",
    "# make a prediction for one example\n",
    "#yhat = model.predict_proba(X_test_other)\n",
    "#print('Predicted Class: %d' % (yhat))\n",
    "#accuracy_score(resultDF[\"real_label\"], resultDF['grand_mean'])\n",
    "'''"
   ]
  },
  {
   "cell_type": "markdown",
   "metadata": {},
   "source": [
    "- prediction"
   ]
  },
  {
   "cell_type": "code",
   "execution_count": 96,
   "metadata": {},
   "outputs": [],
   "source": [
    "def prediction(X_test):\n",
    "    # predict\n",
    "    predict = pd.DataFrame(model.predict_proba(X_test), columns=model.classes_)\n",
    "    #predict = pd.DataFrame(model.predict(X_test))\n",
    "    predict = predict.add_prefix('pred_')\n",
    "    \n",
    "    predict['meanPred'] = 0\n",
    "    for i in range(1,6):\n",
    "        predict['meanPred'] = predict['meanPred'] + predict['pred_'+str(i)+'.0'] * i\n",
    "    #predict['mean'] = predict['sumPred']/(np.sum(predict.iloc[:,0:5], axis=1))\n",
    "    # sum(pred1~5) = 1\n",
    "\n",
    "    predict['varPred'] = 0\n",
    "    for i in range(1,6):\n",
    "        predict['varPred'] = predict['varPred'] + (predict['pred_'+str(i)+'.0'] * (i - predict['meanPred'])**2)\n",
    "\n",
    "    predict['repvar'] = 1/predict['varPred']\n",
    "    predict['w_mean'] = predict['meanPred']/predict['varPred']\n",
    "    \n",
    "    #predict.describe()\n",
    "    \n",
    "    return(predict)"
   ]
  },
  {
   "cell_type": "code",
   "execution_count": 97,
   "metadata": {},
   "outputs": [],
   "source": [
    "#X_test_predict = prediction(X_test_other)"
   ]
  },
  {
   "cell_type": "markdown",
   "metadata": {},
   "source": [
    "## Evaluate models"
   ]
  },
  {
   "cell_type": "code",
   "execution_count": 98,
   "metadata": {},
   "outputs": [],
   "source": [
    "from sklearn.metrics import accuracy_score\n",
    "from sklearn.metrics import classification_report\n",
    "from sklearn.metrics import mean_squared_error\n",
    "from sklearn.metrics import confusion_matrix\n",
    "\n",
    "def evaluate_model(predict_df):\n",
    "    ## set up\n",
    "    tempDF = pd.DataFrame({\"business_id\": X_test_name['business_id'], \n",
    "                           \"real_label\": y_test})\n",
    "    tempDF = pd.concat([tempDF, predict_df], axis=1)\n",
    "\n",
    "    resultDF = tempDF.groupby(['business_id', 'real_label']).sum()\n",
    "    resultDF['grand_mean'] = round(resultDF['w_mean']/resultDF['repvar'], 0)\n",
    "    resultDF['grand_var'] = 1/resultDF['repvar']\n",
    "    resultDF.reset_index(inplace=True)\n",
    "    # resultDF['grand_mean'].describe()\n",
    "    \n",
    "    ## accuracy\n",
    "    accuracy = round(accuracy_score(resultDF[\"real_label\"], resultDF['grand_mean']), 3)\n",
    "    print(\"accuracy score:\", accuracy)\n",
    "    print(\"classification report:\\n\", classification_report(resultDF[\"real_label\"], resultDF['grand_mean']))\n",
    "    \n",
    "    realDummy = pd.get_dummies(resultDF['real_label'], prefix='real')\n",
    "\n",
    "    ## calculate RMSE\n",
    "    true_labs = realDummy.to_numpy().argmax(axis=1)+1\n",
    "    pred_labs = np.round(resultDF['grand_mean'])\n",
    "    rmse = (mean_squared_error(true_labs, pred_labs))**(0.5)\n",
    "    print(\"RMSE:\\t\", round(rmse, 4))\n",
    "    \n",
    "    ## plot confusion matrix\n",
    "    labels = [1,2,3,4,5]\n",
    "    #labels = [0,1,2,3,4]\n",
    "    cm = confusion_matrix(true_labs, pred_labs, labels, normalize='true')\n",
    "    cm_df = pd.DataFrame(cm, index=[i for i in labels], columns=[i for i in labels])\n",
    "\n",
    "    plt.figure(figsize = (10,7))\n",
    "    ax = plt.subplot()\n",
    "    sns.heatmap(cm_df, annot=True, cmap='BuPu', ax=ax)\n",
    "    ax.set_xlabel('Predicted labels')\n",
    "    ax.set_ylabel('True labels')\n",
    "    ax.set_title('Confusion Matrix')\n",
    "    \n",
    "    return(resultDF, rmse)"
   ]
  },
  {
   "cell_type": "code",
   "execution_count": 99,
   "metadata": {},
   "outputs": [
    {
     "name": "stdout",
     "output_type": "stream",
     "text": [
      "accuracy score: 0.391\n",
      "classification report:\n",
      "               precision    recall  f1-score   support\n",
      "\n",
      "         1.0       0.93      0.12      0.22      1050\n",
      "         2.0       0.30      0.37      0.34      1015\n",
      "         3.0       0.29      0.60      0.39      1034\n",
      "         4.0       0.37      0.41      0.39      1130\n",
      "         5.0       0.88      0.44      0.59      1106\n",
      "\n",
      "    accuracy                           0.39      5335\n",
      "   macro avg       0.56      0.39      0.39      5335\n",
      "weighted avg       0.56      0.39      0.39      5335\n",
      "\n",
      "RMSE:\t 1.0035\n"
     ]
    },
    {
     "name": "stderr",
     "output_type": "stream",
     "text": [
      "/usr/local/lib/python3.7/site-packages/sklearn/utils/validation.py:71: FutureWarning: Pass labels=[1, 2, 3, 4, 5] as keyword args. From version 0.25 passing these as positional arguments will result in an error\n",
      "  FutureWarning)\n"
     ]
    },
    {
     "data": {
      "image/png": "[encoded data removed]",
      "text/plain": [
       "<Figure size 720x504 with 2 Axes>"
      ]
     },
     "metadata": {
      "needs_background": "light"
     },
     "output_type": "display_data"
    }
   ],
   "source": [
    "X_test_predict = prediction(X_testAll_SVD)\n",
    "#X_test_predict = X_test_predict.replace([np.inf, -np.inf], 0)\n",
    "resultDF, rmse = evaluate_model(X_test_predict)"
   ]
  },
  {
   "cell_type": "markdown",
   "metadata": {},
   "source": [
    "## Fine Tune Modeling"
   ]
  },
  {
   "cell_type": "code",
   "execution_count": 100,
   "metadata": {},
   "outputs": [],
   "source": [
    "#X_test_predict.describe()"
   ]
  }
 ],
 "metadata": {
  "kernelspec": {
   "display_name": "Python 3",
   "language": "python",
   "name": "python3"
  },
  "language_info": {
   "codemirror_mode": {
    "name": "ipython",
    "version": 3
   },
   "file_extension": ".py",
   "mimetype": "text/x-python",
   "name": "python",
   "nbconvert_exporter": "python",
   "pygments_lexer": "ipython3",
   "version": "3.7.7"
  }
 },
 "nbformat": 4,
 "nbformat_minor": 2
}
